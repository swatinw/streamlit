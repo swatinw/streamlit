{
 "cells": [
  {
   "cell_type": "code",
   "execution_count": 1,
   "id": "5159d12c",
   "metadata": {},
   "outputs": [
    {
     "name": "stderr",
     "output_type": "stream",
     "text": [
      "2025-05-02 09:48:36.130 \n",
      "  \u001b[33m\u001b[1mWarning:\u001b[0m to view this Streamlit app on a browser, run it with the following\n",
      "  command:\n",
      "\n",
      "    streamlit run /opt/anaconda3/lib/python3.11/site-packages/ipykernel_launcher.py [ARGUMENTS]\n"
     ]
    }
   ],
   "source": [
    "import streamlit as st\n",
    "import pandas as pd\n",
    "from catboost import CatBoostRegressor\n",
    "\n",
    "# Load the CatBoost model\n",
    "model = CatBoostRegressor()\n",
    "model.load_model(\"catboost_model.cbm\")\n",
    "\n",
    "# Page config\n",
    "st.set_page_config(page_title=\"Product Rating Predictor\", page_icon=\"📦\")\n",
    "st.title(\"📦 Product Rating Predictor\")\n",
    "st.write(\"Enter product details to predict the user rating.\")\n",
    "\n",
    "# Input form\n",
    "with st.form(\"prediction_form\"):\n",
    "    color = st.selectbox(\"Color\", ['Red', 'Blue', 'Black', 'White'])  # Match training categories\n",
    "    product_name = st.text_input(\"Product Name\")\n",
    "    category = st.selectbox(\"Category\", ['Shoes', 'Clothing', 'Accessories'])\n",
    "    brand = st.selectbox(\"Brand\", ['Nike', 'Adidas', 'Puma'])\n",
    "    user_id = st.text_input(\"User ID\")\n",
    "    size = st.selectbox(\"Size\", ['S', 'M', 'L', 'XL'])\n",
    "    price = st.text_input(\"Price\", value=\"100\")  # Accepts as string\n",
    "\n",
    "    submit = st.form_submit_button(\"Predict\")\n",
    "\n",
    "# Prediction\n",
    "if submit:\n",
    "    input_df = pd.DataFrame([{\n",
    "        'Color': color,\n",
    "        'Product Name': product_name,\n",
    "        'Category': category,\n",
    "        'Brand': brand,\n",
    "        'User ID': user_id,\n",
    "        'Size': size,\n",
    "        'Price': price\n",
    "    }])\n",
    "\n",
    "    prediction = model.predict(input_df)\n",
    "    st.success(f\"⭐ Predicted Rating: **{prediction[0]:.2f}**\")\n"
   ]
  },
  {
   "cell_type": "code",
   "execution_count": null,
   "id": "489b3c09",
   "metadata": {},
   "outputs": [],
   "source": []
  }
 ],
 "metadata": {
  "kernelspec": {
   "display_name": "Python 3 (ipykernel)",
   "language": "python",
   "name": "python3"
  },
  "language_info": {
   "codemirror_mode": {
    "name": "ipython",
    "version": 3
   },
   "file_extension": ".py",
   "mimetype": "text/x-python",
   "name": "python",
   "nbconvert_exporter": "python",
   "pygments_lexer": "ipython3",
   "version": "3.11.7"
  }
 },
 "nbformat": 4,
 "nbformat_minor": 5
}
